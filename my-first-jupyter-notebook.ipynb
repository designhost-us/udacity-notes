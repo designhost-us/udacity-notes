{
 "metadata": {
  "language_info": {
   "codemirror_mode": {
    "name": "ipython",
    "version": 3
   },
   "file_extension": ".py",
   "mimetype": "text/x-python",
   "name": "python",
   "nbconvert_exporter": "python",
   "pygments_lexer": "ipython3",
   "version": "3.8.2-final"
  },
  "orig_nbformat": 2,
  "kernelspec": {
   "name": "python38264bitaa583e0d1d2f4e648b945aed1e164021",
   "display_name": "Python 3.8.2 64-bit"
  }
 },
 "nbformat": 4,
 "nbformat_minor": 2,
 "cells": [
  {
   "cell_type": "markdown",
   "metadata": {},
   "source": [
    "# 28072020\n",
    "## Hello Markdown!\n",
    "\n",
    "While setting up my IDE for anticipated JS projects, I discovered Jupyter Notebooks and decided that this would be a better way of note-taking than my previous HTML based approach.\n",
    "\n",
    "Thanks Jupyter!\n",
    "\n",
    "Here's some basics of MD:\n",
    "\n",
    "br = double space  \n",
    "esc = \\\n",
    "ital = \\_ital_  \n",
    "bold = \\**bold**  \n",
    "link = \\[a](url)  \n",
    "img = \\![alt](url)  \n",
    "quote = \\>  \n",
    "ul = \\*  \n",
    "ol = n.  \n",
    "  ---\n",
    "  ## Back to school...  \n",
    "  ### Substrings "
   ]
  },
  {
   "cell_type": "code",
   "execution_count": null,
   "metadata": {
    "tags": []
   },
   "outputs": [],
   "source": [
    "def is_substring(substring, string):\n",
    "    index = 0\n",
    "    while index < len(string):\n",
    "        if string[index : index + len(substring)] == substring:\n",
    "            return True\n",
    "        index += 1\n",
    "    return False\n",
    "\n",
    "# This one should return False\n",
    "print(is_substring('bad', 'abracadabra'))\n",
    "\n",
    "# This one should return True\n",
    "print(is_substring('dab', 'abracadabra'))"
   ]
  },
  {
   "cell_type": "code",
   "execution_count": 27,
   "metadata": {
    "tags": []
   },
   "outputs": [
    {
     "output_type": "stream",
     "name": "stdout",
     "text": "4\n"
    }
   ],
   "source": [
    "def count_substring(string, target):\n",
    "    index = 0\n",
    "    total = 0\n",
    "    while index < len(string):\n",
    "        if string[index:index+len(target)] == target:\n",
    "            total += 1\n",
    "        index += 1\n",
    "    return total\n",
    "\n",
    "# Here's a call you can test it with. This should print 4:\n",
    "print(count_substring('love, love, love, all you need is love', 'love'))"
   ]
  },
  {
   "cell_type": "code",
   "execution_count": 31,
   "metadata": {
    "tags": []
   },
   "outputs": [
    {
     "output_type": "stream",
     "name": "stdout",
     "text": "1\n-1\n"
    }
   ],
   "source": [
    "def locate_first(string, target):\n",
    "    index = 0\n",
    "    while index < len(string):\n",
    "        if string[index : index + len(target)] == target:\n",
    "            return index\n",
    "        else:\n",
    "            index += 1\n",
    "    return -1\n",
    "\n",
    "# Here are a couple function calls to test with.\n",
    "\n",
    "# This one should return 1\n",
    "print(locate_first('cookbook', 'ook'))\n",
    "\n",
    "# This one should return -1\n",
    "print(locate_first('all your bass are belong to us', 'base'))"
   ]
  },
  {
   "cell_type": "code",
   "execution_count": 36,
   "metadata": {
    "tags": []
   },
   "outputs": [
    {
     "output_type": "stream",
     "name": "stdout",
     "text": "[1, 5]\n[]\n"
    }
   ],
   "source": [
    "def locate_all(string, target):\n",
    "    matches = []\n",
    "    index = 0\n",
    "    while index < len(string):\n",
    "        if string[index : index + len(target)] == target:\n",
    "            matches.append(index)\n",
    "            index += len(target)\n",
    "        else:\n",
    "            index += 1\n",
    "    return matches\n",
    "\n",
    "# Here are a couple function calls to test with.\n",
    "\n",
    "# This one should return 1\n",
    "print(locate_all('cookbook', 'ook'))\n",
    "\n",
    "# This one should return -1\n",
    "print(locate_all('all your bass are belong to us', 'base'))"
   ]
  },
  {
   "cell_type": "markdown",
   "metadata": {},
   "source": [
    "### [Serarch](https://youtu.be/DSVmkhuLN0w) in Python\n",
    "\n",
    "is_substring = \"in\" i.e. ```'box' in 'big box'``` = True  \n",
    "* see also ```not in```  \n",
    "\n",
    "locate_first = ```string.find('substring')```  \n",
    "* see also ```string.count(substring)```  \n",
    "\n",
    "[Join](https://youtu.be/-RmlqIYam48)"
   ]
  },
  {
   "cell_type": "code",
   "execution_count": 37,
   "metadata": {},
   "outputs": [
    {
     "output_type": "execute_result",
     "data": {
      "text/plain": "'c-a-t'"
     },
     "metadata": {},
     "execution_count": 37
    }
   ],
   "source": [
    "\"-\".join(\"cat\")"
   ]
  },
  {
   "cell_type": "code",
   "execution_count": 44,
   "metadata": {},
   "outputs": [
    {
     "output_type": "execute_result",
     "data": {
      "text/plain": "'Haiku frogs in snow<br>A limerick came from Nantucket<br>Tetrametric drum-beats thrumming, Hiawathianic rhythm.'"
     },
     "metadata": {},
     "execution_count": 44
    }
   ],
   "source": [
    "lines = [\"Haiku frogs in snow\", \"A limerick came from Nantucket\", \"Tetrametric drum-beats thrumming, Hiawathianic rhythm.\"]\n",
    "\n",
    "def breakify():\n",
    "   return \"<br>\".join(lines)\n",
    "\n",
    "breakify()"
   ]
  },
  {
   "cell_type": "markdown",
   "metadata": {},
   "source": [
    "---"
   ]
  },
  {
   "cell_type": "code",
   "execution_count": null,
   "metadata": {},
   "outputs": [],
   "source": [
    "# 29072020  \n",
    "## Find and replace  \n",
    "\n"
   ]
  },
  {
   "cell_type": "code",
   "execution_count": 3,
   "metadata": {
    "tags": []
   },
   "outputs": [
    {
     "output_type": "stream",
     "name": "stdout",
     "text": "Hello world!\nWhoever wrote this loves break tags!\nI am learning to code.\n"
    }
   ],
   "source": [
    "def remove_substring(string, substring):\n",
    "    output = []\n",
    "    index = 0\n",
    "    while index < len(string):\n",
    "        if string[index:index+(len(substring))] == substring:\n",
    "            index += len(substring)\n",
    "        else:\n",
    "            output.append(string[index])\n",
    "            index += 1\n",
    "    print(\"\".join(output))\n",
    "\n",
    "remove_substring('SPAM!HelloSPAM! worldSPAM!!', 'SPAM!')\n",
    "remove_substring(\"Whoever<br> wrote this<br> loves break<br> tags!\", \"<br>\")\n",
    "remove_substring('I am NOT learning to code.', 'NOT ')"
   ]
  },
  {
   "cell_type": "code",
   "execution_count": 13,
   "metadata": {
    "tags": []
   },
   "outputs": [
    {
     "output_type": "stream",
     "name": "stdout",
     "text": "Hot eggdrop soup, and curry with eggplant.\nThe word 'definitely' is definitely often misspelled.\n"
    }
   ],
   "source": [
    "def replace_substring(string, substring, replace):\n",
    "    output = []\n",
    "    index = 0\n",
    "    while index < len(string):\n",
    "        if string[index:index+(len(substring))] == substring:\n",
    "            output.append(replace)\n",
    "            index += len(substring)\n",
    "        else:\n",
    "            output.append(string[index])\n",
    "            index += 1\n",
    "    return(\"\".join(output))\n",
    "\n",
    "print(replace_substring('Hot SPAM!drop soup, and curry with SPAM!plant.', 'SPAM!', 'egg'))\n",
    "print(replace_substring(\"The word 'definately' is definately often misspelled.\", 'definately', 'definitely'))"
   ]
  },
  {
   "cell_type": "code",
   "execution_count": 28,
   "metadata": {
    "tags": []
   },
   "outputs": [
    {
     "output_type": "stream",
     "name": "stdout",
     "text": "Sorry, I don't understand.\nWaffles it is!\n"
    }
   ],
   "source": [
    "import time\n",
    "\n",
    "print(\"Hello! I am Bob, the Breakfast Bot.\")\n",
    "time.sleep(2)\n",
    "print(\"Today we have two breakfasts available.\")\n",
    "time.sleep(2)\n",
    "print(\"The first is waffles with strawberries and whipped cream.\")\n",
    "time.sleep(2)\n",
    "print(\"The second is sweet potato pancakes with butter and syrup.\")\n",
    "time.sleep(2)\n",
    "\n",
    "while True:\n",
    "    while True:\n",
    "        response = input(\"Please place your order. Would you like waffles or pancakes?\\n\").lower()\n",
    "        if \"waffles\" in response:\n",
    "            print(\"Waffles it is!\")\n",
    "            time.sleep(2)\n",
    "            break\n",
    "        elif \"pancakes\" in response:\n",
    "            print(\"Pancakes it is!\")\n",
    "            time.sleep(2)\n",
    "            break\n",
    "        else:\n",
    "            print(\"Sorry, I don't understand.\")\n",
    "            time.sleep(2)\n",
    "    print(\"Your order will be ready shortly.\")\n",
    "    time.sleep(2)\n",
    "    while True: # We want to loop until they enter a valid response.\n",
    "        order_again = input(\"Would you like to place another order? Please say 'yes' or 'no'.\\n\").lower()\n",
    "        if 'no' in order_again:\n",
    "            print(\"OK, goodbye!\")\n",
    "            time.sleep(2)\n",
    "            break # Note that this will only break out of the inner loop.\n",
    "        elif 'yes' in order_again:\n",
    "            print(\"Very good, I'm happy to take another order.\")\n",
    "            time.sleep(2)\n",
    "            break # Again, this only breaks out of the inner loop.\n",
    "        else:\n",
    "            print(\"Sorry, I don't understand.\")\n",
    "            time.sleep(2)\n",
    "    if 'no' in order_again: \n",
    "        break # We need this last break statement to exit the outer loop."
   ]
  },
  {
   "cell_type": "code",
   "execution_count": null,
   "metadata": {},
   "outputs": [],
   "source": [
    "---\n",
    "# 30072020\n",
    "\n",
    "## Refactoring  \n",
    "\n"
   ]
  },
  {
   "cell_type": "code",
   "execution_count": null,
   "metadata": {},
   "outputs": [],
   "source": [
    "# input validator\n",
    "\n",
    "import time\n",
    "\n",
    "def print_pause(message_to_print):\n",
    "    print(message_to_print)\n",
    "    time.sleep(2)\n",
    "\n",
    "def valid_input(prompt, option1, option2):\n",
    "    while True:\n",
    "        response = input(prompt).lower()\n",
    "        if option1 in response:\n",
    "            break\n",
    "        elif option2 in response:\n",
    "            break\n",
    "        else:\n",
    "            print_pause(\"Sorry, I don't understand.\")\n",
    "    return response\n"
   ]
  },
  {
   "cell_type": "code",
   "execution_count": null,
   "metadata": {
    "tags": []
   },
   "outputs": [],
   "source": [
    "import time\n",
    "\n",
    "\n",
    "def print_pause(message_to_print):\n",
    "    print(message_to_print)\n",
    "    time.sleep(2)\n",
    "\n",
    "\n",
    "def valid_input(prompt, option1, option2):\n",
    "    while True:\n",
    "        response = input(prompt).lower()\n",
    "        if option1 in response:\n",
    "            break\n",
    "        elif option2 in response:\n",
    "            break\n",
    "        else:\n",
    "            print_pause(\"Sorry, I don't understand.\")\n",
    "    return response\n",
    "\n",
    "\n",
    "def intro():\n",
    "    print_pause(\"Hello! I am Bob, the Breakfast Bot.\")\n",
    "    print_pause(\"Today we have two breakfasts available.\")\n",
    "    print_pause(\"The first is waffles with strawberries and whipped cream.\")\n",
    "    print_pause(\"The second is sweet potato pancakes with butter and syrup.\")\n",
    "\n",
    "\n",
    "def get_order():\n",
    "    response = valid_input(\"Please place your order. \"\n",
    "                           \"Would you like waffles or pancakes?\\n\",\n",
    "                           \"waffles\", \"pancakes\")\n",
    "    if \"waffles\" in response:\n",
    "        print_pause(\"Waffles it is!\")\n",
    "    elif \"pancakes\" in response:\n",
    "        print_pause(\"Pancakes it is!\")\n",
    "    print_pause(\"Your order will be ready shortly.\")\n",
    "    order_again()\n",
    "\n",
    "def order_again():\n",
    "    response = valid_input(\"Would you like to place another order? \"\n",
    "                              \"Please say 'yes' or 'no'.\\n\",\n",
    "                              \"yes\", \"no\")\n",
    "    if \"no\" in response:\n",
    "        print_pause(\"OK, goodbye!\")\n",
    "    elif \"yes\" in response:\n",
    "        print_pause(\"Very good, I'm happy to take another order.\")\n",
    "        get_order()\n",
    "\n",
    "\n",
    "def order_breakfast():\n",
    "    intro()\n",
    "    get_order()\n",
    "\n",
    "\n",
    "order_breakfast()"
   ]
  },
  {
   "cell_type": "code",
   "execution_count": null,
   "metadata": {},
   "outputs": [],
   "source": []
  }
 ]
}