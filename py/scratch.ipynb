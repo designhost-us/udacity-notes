{
 "metadata": {
  "language_info": {
   "codemirror_mode": {
    "name": "ipython",
    "version": 3
   },
   "file_extension": ".py",
   "mimetype": "text/x-python",
   "name": "python",
   "nbconvert_exporter": "python",
   "pygments_lexer": "ipython3",
   "version": "3.8.2-final"
  },
  "orig_nbformat": 2,
  "kernelspec": {
   "name": "python38264bit9b02c1c0c9144414b5ef1b60bb4d6a28",
   "display_name": "Python 3.8.2 64-bit"
  }
 },
 "nbformat": 4,
 "nbformat_minor": 2,
 "cells": [
  {
   "cell_type": "code",
   "execution_count": null,
   "metadata": {},
   "outputs": [],
   "source": [
    "npc_name = [Anlow, Arando, Bram, Cale, Dalkon, Daylen, Dodd, Dungarth,\n",
    "            Dyrk, Eandro, Falken, Feck, Fenton, Gryphero, Hagar, Jeras,\n",
    "            Krynt, Lavant, Leyten, Madian, Malfier, Markus, Meklan, Namen,\n",
    "            Navaren, Nerle, Nilus, Ningyan, Norris, Quentin, Semil, Sevenson,\n",
    "            Steveren, Talfen, Tamond, Taran, Tavon, Tegan, Vanan, Vincent]\n",
    "\n",
    "print(random.choice(npc_name))"
   ]
  },
  {
   "cell_type": "code",
   "execution_count": null,
   "metadata": {},
   "outputs": [],
   "source": []
  }
 ]
}